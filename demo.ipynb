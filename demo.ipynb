{
 "cells": [
  {
   "cell_type": "code",
   "execution_count": 7,
   "metadata": {},
   "outputs": [],
   "source": [
    "import sys\n",
    "import os\n",
    "\n",
    "# Directorio raiz\n",
    "sys.path.append(os.path.abspath(\"/workspaces/nuparti/nupartilib\"))"
   ]
  },
  {
   "cell_type": "code",
   "execution_count": 6,
   "metadata": {},
   "outputs": [],
   "source": [
    "# Importamos las clases (* para todas las partículas en particles)\n",
    "from nupartilib.particles import *\n",
    "from nupartilib.three_vector import ThreeVector\n",
    "from nupartilib.lorentz_transformation import LorentzTransformation\n",
    "from nupartilib.four_vector import FourVector\n",
    "from nupartilib.rotation import Rotation\n",
    "\n",
    "import numpy as np\n",
    "from numpy import cos, sin"
   ]
  },
  {
   "cell_type": "code",
   "execution_count": 8,
   "metadata": {},
   "outputs": [
    {
     "name": "stdout",
     "output_type": "stream",
     "text": [
      "Type: Particle\n",
      "Charge: 0 e\n",
      "Mass: 0 (MeV/c^2)\n",
      "Position: x=0 , y=0 , z=0\n",
      "Subtype: Fermion\n",
      "Spin: 0.5 ħ\n",
      "Magnetic Moment: <0.064e-10 e*cm\n",
      "Generation: second\n",
      "Mean Life: None s\n",
      "\n",
      "Type: Particle\n",
      "Charge: -0.3333333333333333 e\n",
      "Mass: 4183 (MeV/c^2)\n",
      "Position: x=0 , y=0 , z=0\n",
      "Subtype: Fermion\n",
      "Spin: 0.5 ħ\n",
      "Generation: third\n",
      "\n",
      "Type: Particle\n",
      "Charge: 0 e\n",
      "Mass: 0 (MeV/c^2)\n",
      "Position: x=0 , y=0 , z=0\n",
      "Subtype: Boson\n",
      "Spin: 2 ħ\n",
      "Interaction: gravity\n",
      "\n",
      "False\n"
     ]
    }
   ],
   "source": [
    "# Propiedades de partículas elementales del ME\n",
    "print(muon_neutrino.properties())\n",
    "print()\n",
    "print(quark_bottom.properties())\n",
    "print()\n",
    "print(graviton.properties())\n",
    "print()\n",
    "print(electron.is_boson)"
   ]
  },
  {
   "cell_type": "code",
   "execution_count": 6,
   "metadata": {},
   "outputs": [
    {
     "name": "stdout",
     "output_type": "stream",
     "text": [
      "Vector v1: ThreeVector(x=(1+0j), y=(2+0j), z=(3+0j))\n",
      "Vector v2: ThreeVector(x=(4+0j), y=(5+0j), z=(6+0j))\n",
      "Suma: ThreeVector(x=(5+0j), y=(7+0j), z=(9+0j))\n",
      "Producto punto: (32+0j)\n",
      "Producto cruz: ThreeVector(x=(-3+0j), y=(6+0j), z=(-3+0j))\n"
     ]
    }
   ],
   "source": [
    "# Definimos un par de ThreeVectors\n",
    "v1 = ThreeVector(1, 2, 3)\n",
    "v2 = ThreeVector(4, 5, 6)\n",
    "\n",
    "# Operaciones\n",
    "print(\"Vector v1:\", v1)\n",
    "print(\"Vector v2:\", v2)\n",
    "print(\"Suma:\", v1 + v2)\n",
    "print(\"Producto punto:\", v1.dot(v2))\n",
    "print(\"Producto cruz:\", v1.cross(v2))\n"
   ]
  },
  {
   "cell_type": "code",
   "execution_count": null,
   "metadata": {},
   "outputs": [
    {
     "name": "stdout",
     "output_type": "stream",
     "text": [
      "FourVector original: FourVector(t=(1+0j), x=0j, y=0j, z=0j)\n",
      "FourVector transformado: FourVector(t=(1+0j), x=0j, y=0j, z=0j)\n"
     ]
    }
   ],
   "source": [
    "# Definir una transformación de Lorentz (e.g., movimiento en la dirección x)\n",
    "lt = LorentzTransformation([\n",
    "    [1, 0, 0, 0],\n",
    "    [0, 1, 0, 0],\n",
    "    [0, 0, 1, 0],\n",
    "    [0, 0, 0, 1]\n",
    "])\n",
    "\n",
    "# Crear el FourVector\n",
    "fv = FourVector(1, 0, 0, 0)\n",
    "\n",
    "# Aplicar la transformación de Lorentz\n",
    "transformed_fv = fv * lt\n",
    "\n",
    "# Imprimir el resultado\n",
    "print(\"FourVector original:\", fv)\n",
    "print(\"FourVector transformado:\", transformed_fv)"
   ]
  },
  {
   "cell_type": "code",
   "execution_count": 8,
   "metadata": {},
   "outputs": [
    {
     "name": "stdout",
     "output_type": "stream",
     "text": [
      "Vector original: ThreeVector(x=(1+0j), y=0j, z=0j)\n",
      "Vector rotado: ThreeVector(x=(6.123233995736766e-17+0j), y=(1+0j), z=0j)\n"
     ]
    }
   ],
   "source": [
    "# Definimos un ThreeVector\n",
    "vector = ThreeVector(1, 0, 0)\n",
    "\n",
    "# Dar la rotación de 90 grados (pi/2) alrededor del eje z (vector unitario)\n",
    "axis = ThreeVector(0, 0, 1)\n",
    "rotation = Rotation(np.pi / 2, axis)\n",
    "\n",
    "# Aplicar la rotación al vector\n",
    "rotated_vector = rotation.apply(vector)\n",
    "\n",
    "# Imprimir el vector original y el vector rotado\n",
    "print(\"Vector original:\", vector)\n",
    "print(\"Vector rotado:\", rotated_vector)"
   ]
  }
 ],
 "metadata": {
  "kernelspec": {
   "display_name": "Python 3",
   "language": "python",
   "name": "python3"
  },
  "language_info": {
   "codemirror_mode": {
    "name": "ipython",
    "version": 3
   },
   "file_extension": ".py",
   "mimetype": "text/x-python",
   "name": "python",
   "nbconvert_exporter": "python",
   "pygments_lexer": "ipython3",
   "version": "3.12.1"
  }
 },
 "nbformat": 4,
 "nbformat_minor": 2
}
