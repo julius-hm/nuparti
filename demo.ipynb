{
 "cells": [
  {
   "cell_type": "code",
   "execution_count": null,
   "metadata": {},
   "outputs": [],
   "source": [
    "import sys\n",
    "import os\n",
    "\n",
    "# Añade el directorio donde está la carpeta pyforce a sys.path\n",
    "sys.path.append(os.path.abspath(\"/home/tom/Desktop/pyforce_package_complete/\"))"
   ]
  },
  {
   "cell_type": "code",
   "execution_count": null,
   "metadata": {},
   "outputs": [],
   "source": [
    "from pyforce.three_vector import ThreeVector\n",
    "from pyforce.lorentz_transformation import LorentzTransformation\n",
    "from pyforce.four_vector import FourVector\n",
    "from pyforce.dirac_spinor import DiracSpinor\n",
    "from pyforce.special_operators import SpecialOperators\n",
    "from pyforce.su2_generator import SU2Generator\n",
    "from pyforce.dmatrix import DMatrix\n",
    "from pyforce.antisymmetric_four_tensor import AntisymmetricFourTensor\n",
    "from pyforce.spinor import Spinor\n",
    "from pyforce.weyl_spinor import WeylSpinor\n",
    "import numpy as np\n",
    "from numpy import cos, sin"
   ]
  },
  {
   "cell_type": "markdown",
   "metadata": {},
   "source": [
    "from pyforce import ThreeVector"
   ]
  },
  {
   "cell_type": "code",
   "execution_count": 4,
   "metadata": {},
   "outputs": [
    {
     "name": "stdout",
     "output_type": "stream",
     "text": [
      "Suma de vectores: ThreeVector(x=(5+0j), y=(7+0j), z=(9+0j))\n"
     ]
    }
   ],
   "source": [
    "# Ejemplo de uso\n",
    "v1 = ThreeVector(1, 2, 3)\n",
    "v2 = ThreeVector(4, 5, 6)\n",
    "print(\"Suma de vectores:\", v1 + v2)\n"
   ]
  },
  {
   "cell_type": "code",
   "execution_count": 5,
   "metadata": {},
   "outputs": [
    {
     "name": "stdout",
     "output_type": "stream",
     "text": [
      "Vector v1: ThreeVector(x=(1+0j), y=(2+0j), z=(3+0j))\n",
      "Vector v2: ThreeVector(x=(4+0j), y=(5+0j), z=(6+0j))\n",
      "Suma: ThreeVector(x=(5+0j), y=(7+0j), z=(9+0j))\n",
      "Producto punto: (32+0j)\n",
      "Producto cruz: ThreeVector(x=(-3+0j), y=(6+0j), z=(-3+0j))\n"
     ]
    }
   ],
   "source": [
    "# Instanciación de vectores\n",
    "v1 = ThreeVector(1, 2, 3)\n",
    "v2 = ThreeVector(4, 5, 6)\n",
    "\n",
    "# Operaciones\n",
    "print(\"Vector v1:\", v1)\n",
    "print(\"Vector v2:\", v2)\n",
    "print(\"Suma:\", v1 + v2)\n",
    "print(\"Producto punto:\", v1.dot(v2))\n",
    "print(\"Producto cruz:\", v1.cross(v2))\n"
   ]
  },
  {
   "cell_type": "code",
   "execution_count": 6,
   "metadata": {},
   "outputs": [
    {
     "name": "stdout",
     "output_type": "stream",
     "text": [
      "FourVector original: FourVector(t=(1+0j), x=0j, y=0j, z=0j)\n",
      "FourVector transformado: FourVector(t=(1+0j), x=0j, y=0j, z=0j)\n"
     ]
    }
   ],
   "source": [
    "## Ejemplo: LorentzTransformation y FourVector\n",
    "\n",
    "# Definir una transformación de Lorentz y un vector\n",
    "lt = LorentzTransformation([[1, 0], [0, 1]], [[1, 0], [0, 1]])\n",
    "fv = FourVector(1, 0, 0, 0)\n",
    "\n",
    "# Aplicar la transformación\n",
    "transformed_fv = fv * lt\n",
    "print(\"FourVector original:\", fv)\n",
    "print(\"FourVector transformado:\", transformed_fv)\n"
   ]
  },
  {
   "cell_type": "code",
   "execution_count": 7,
   "metadata": {},
   "outputs": [
    {
     "name": "stdout",
     "output_type": "stream",
     "text": [
      "Espinor de Dirac: DiracSpinor(spinor=[1.+0.j 0.+0.j 0.+0.j 1.+0.j])\n",
      "Conjugado del espinor: [[0.-0.j 1.-0.j]\n",
      " [1.-0.j 0.-0.j]]\n"
     ]
    }
   ],
   "source": [
    "## Ejemplo: DiracSpinor\n",
    "\n",
    "# Instanciar un espinor de Dirac\n",
    "spinor = DiracSpinor([1, 0, 0, 1])\n",
    "print(\"Espinor de Dirac:\", spinor)\n",
    "\n",
    "# Calcular el conjugado del espinor\n",
    "conjugate_spinor = DiracSpinor.bar(spinor)\n",
    "print(\"Conjugado del espinor:\", conjugate_spinor)\n"
   ]
  },
  {
   "cell_type": "code",
   "execution_count": 8,
   "metadata": {},
   "outputs": [
    {
     "name": "stdout",
     "output_type": "stream",
     "text": [
      "Producto punto: 0j\n",
      "Producto cruz: ThreeVector(x=0j, y=0j, z=(1+0j))\n"
     ]
    }
   ],
   "source": [
    "## Ejemplo: SpecialOperators\n",
    "\n",
    "# Definir dos vectores\n",
    "v1 = ThreeVector(1, 0, 0)\n",
    "v2 = ThreeVector(0, 1, 0)\n",
    "\n",
    "# Calcular producto punto y cruz\n",
    "print(\"Producto punto:\", SpecialOperators.dot_product(v1, v2))\n",
    "print(\"Producto cruz:\", SpecialOperators.cross_product(v1, v2))\n"
   ]
  },
  {
   "cell_type": "code",
   "execution_count": 9,
   "metadata": {},
   "outputs": [
    {
     "name": "stdout",
     "output_type": "stream",
     "text": [
      "Matriz Pauli-X: [[0.+0.j 1.+0.j]\n",
      " [1.+0.j 0.+0.j]]\n",
      "Matriz Pauli-Y: [[ 0.+0.j -0.-1.j]\n",
      " [ 0.+1.j  0.+0.j]]\n",
      "Matriz Pauli-Z: [[ 1.+0.j  0.+0.j]\n",
      " [ 0.+0.j -1.+0.j]]\n"
     ]
    }
   ],
   "source": [
    "## Ejemplo: SU2Generator\n",
    "# Instancia de generador SU(2)\n",
    "su2 = SU2Generator()\n",
    "\n",
    "# Obtener matrices de Pauli\n",
    "print(\"Matriz Pauli-X:\", su2.get_generator(0))\n",
    "print(\"Matriz Pauli-Y:\", su2.get_generator(1))\n",
    "print(\"Matriz Pauli-Z:\", su2.get_generator(2))\n"
   ]
  },
  {
   "cell_type": "code",
   "execution_count": 10,
   "metadata": {},
   "outputs": [
    {
     "name": "stdout",
     "output_type": "stream",
     "text": [
      "DMatrix: DMatrix(size=3, matrix=\n",
      "[[0.+0.j 1.+1.j 0.+0.j]\n",
      " [0.+0.j 0.+0.j 2.+2.j]\n",
      " [0.+0.j 0.+0.j 0.+0.j]])\n"
     ]
    }
   ],
   "source": [
    "## Ejemplo: DMatrix\n",
    "# Crear una matriz 3x3 e insertar elementos\n",
    "dm = DMatrix(3)\n",
    "dm.set_element(0, 1, 1 + 1j)\n",
    "dm.set_element(1, 2, 2 + 2j)\n",
    "\n",
    "print(\"DMatrix:\", dm)\n"
   ]
  },
  {
   "cell_type": "code",
   "execution_count": 11,
   "metadata": {},
   "outputs": [
    {
     "name": "stdout",
     "output_type": "stream",
     "text": [
      "Tensor antisimétrico transformado: AntisymmetricFourTensor(tensor=\n",
      "[[ 0.+0.j  0.+0.j  0.+0.j  0.+0.j]\n",
      " [ 1.+0.j  0.+0.j  0.+0.j -0.+0.j]\n",
      " [ 0.+0.j  0.+0.j  0.+0.j  0.+0.j]\n",
      " [ 0.+0.j  0.+0.j  2.+0.j  0.+0.j]])\n"
     ]
    }
   ],
   "source": [
    "## Ejemplo: AntisymmetricFourTensor\n",
    "# Crear un tensor antisimétrico y asignar valores\n",
    "tensor = AntisymmetricFourTensor()\n",
    "tensor[1, 0] = 1 + 1j\n",
    "tensor[3, 2] = 2 + 2j\n",
    "tensor[2, 1] = -1j\n",
    "\n",
    "# Definir una transformación de Lorentz de tamaño adecuado para 3D\n",
    "lorentz = LorentzTransformation(\n",
    "    rep1_matrix=[[1, 0, 0], [0, 1, 0], [0, 0, 1]],\n",
    "    rep2_matrix=[[1, 0, 0], [0, 1, 0], [0, 0, 1]]\n",
    ")\n",
    "\n",
    "# Aplicar la transformación\n",
    "transformed_tensor = tensor.transform(lorentz)\n",
    "print(\"Tensor antisimétrico transformado:\", transformed_tensor)\n",
    "\n",
    "\n"
   ]
  },
  {
   "cell_type": "code",
   "execution_count": 12,
   "metadata": {},
   "outputs": [
    {
     "name": "stdout",
     "output_type": "stream",
     "text": [
      "Espinor conjugado: Spinor(components=[ 1.-0.j  0.-1.j -1.-0.j -0.+1.j])\n",
      "Suma de WeylSpinor con otro WeylSpinor: WeylSpinor(left_component=(1+2j), right_component=(3+3j))\n"
     ]
    }
   ],
   "source": [
    "## Ejemplo: Spinor y WeylSpinor\n",
    "\n",
    "# Instanciar un Spinor y un WeylSpinor\n",
    "spinor = Spinor([1, 1j, -1, -1j])\n",
    "weyl = WeylSpinor(1 + 2j, 3 + 4j)\n",
    "\n",
    "# Operaciones\n",
    "print(\"Espinor conjugado:\", spinor.conjugate())\n",
    "print(\"Suma de WeylSpinor con otro WeylSpinor:\", weyl + WeylSpinor(0, -1j))\n"
   ]
  }
 ],
 "metadata": {
  "kernelspec": {
   "display_name": "Python 3",
   "language": "python",
   "name": "python3"
  },
  "language_info": {
   "codemirror_mode": {
    "name": "ipython",
    "version": 3
   },
   "file_extension": ".py",
   "mimetype": "text/x-python",
   "name": "python",
   "nbconvert_exporter": "python",
   "pygments_lexer": "ipython3",
   "version": "3.10.12"
  }
 },
 "nbformat": 4,
 "nbformat_minor": 2
}
